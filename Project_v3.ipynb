{
 "cells": [
  {
   "cell_type": "markdown",
   "metadata": {},
   "source": [
    "# City of Phoenix Crime"
   ]
  },
  {
   "cell_type": "code",
   "execution_count": 1,
   "metadata": {},
   "outputs": [
    {
     "data": {
      "text/html": [
       "<div>\n",
       "<style scoped>\n",
       "    .dataframe tbody tr th:only-of-type {\n",
       "        vertical-align: middle;\n",
       "    }\n",
       "\n",
       "    .dataframe tbody tr th {\n",
       "        vertical-align: top;\n",
       "    }\n",
       "\n",
       "    .dataframe thead th {\n",
       "        text-align: right;\n",
       "    }\n",
       "</style>\n",
       "<table border=\"1\" class=\"dataframe\">\n",
       "  <thead>\n",
       "    <tr style=\"text-align: right;\">\n",
       "      <th></th>\n",
       "      <th>INC NUMBER</th>\n",
       "      <th>OCCURRED ON</th>\n",
       "      <th>UCR CRIME CATEGORY</th>\n",
       "      <th>ZIP</th>\n",
       "      <th>PREMISE TYPE</th>\n",
       "      <th>YEAR</th>\n",
       "      <th>MONTH</th>\n",
       "      <th>DAY</th>\n",
       "      <th>DayofWeek</th>\n",
       "    </tr>\n",
       "  </thead>\n",
       "  <tbody>\n",
       "    <tr>\n",
       "      <th>0</th>\n",
       "      <td>201500000000000</td>\n",
       "      <td>2015-11-01</td>\n",
       "      <td>MOTOR VEHICLE THEFT</td>\n",
       "      <td>85307</td>\n",
       "      <td>SINGLE FAMILY HOUSE</td>\n",
       "      <td>2015</td>\n",
       "      <td>11</td>\n",
       "      <td>1</td>\n",
       "      <td>Sunday</td>\n",
       "    </tr>\n",
       "    <tr>\n",
       "      <th>1</th>\n",
       "      <td>201500000000000</td>\n",
       "      <td>2015-11-01</td>\n",
       "      <td>MOTOR VEHICLE THEFT</td>\n",
       "      <td>85043</td>\n",
       "      <td>SINGLE FAMILY HOUSE</td>\n",
       "      <td>2015</td>\n",
       "      <td>11</td>\n",
       "      <td>1</td>\n",
       "      <td>Sunday</td>\n",
       "    </tr>\n",
       "    <tr>\n",
       "      <th>2</th>\n",
       "      <td>201600000000000</td>\n",
       "      <td>2015-11-01</td>\n",
       "      <td>MOTOR VEHICLE THEFT</td>\n",
       "      <td>85029</td>\n",
       "      <td>SINGLE FAMILY HOUSE</td>\n",
       "      <td>2015</td>\n",
       "      <td>11</td>\n",
       "      <td>1</td>\n",
       "      <td>Sunday</td>\n",
       "    </tr>\n",
       "    <tr>\n",
       "      <th>3</th>\n",
       "      <td>201500000000000</td>\n",
       "      <td>2015-11-01</td>\n",
       "      <td>LARCENY-THEFT</td>\n",
       "      <td>85014</td>\n",
       "      <td>PARKING LOT</td>\n",
       "      <td>2015</td>\n",
       "      <td>11</td>\n",
       "      <td>1</td>\n",
       "      <td>Sunday</td>\n",
       "    </tr>\n",
       "    <tr>\n",
       "      <th>4</th>\n",
       "      <td>201700000000000</td>\n",
       "      <td>2015-11-01</td>\n",
       "      <td>LARCENY-THEFT</td>\n",
       "      <td>85085</td>\n",
       "      <td>SINGLE FAMILY HOUSE</td>\n",
       "      <td>2015</td>\n",
       "      <td>11</td>\n",
       "      <td>1</td>\n",
       "      <td>Sunday</td>\n",
       "    </tr>\n",
       "  </tbody>\n",
       "</table>\n",
       "</div>"
      ],
      "text/plain": [
       "        INC NUMBER OCCURRED ON   UCR CRIME CATEGORY    ZIP  \\\n",
       "0  201500000000000  2015-11-01  MOTOR VEHICLE THEFT  85307   \n",
       "1  201500000000000  2015-11-01  MOTOR VEHICLE THEFT  85043   \n",
       "2  201600000000000  2015-11-01  MOTOR VEHICLE THEFT  85029   \n",
       "3  201500000000000  2015-11-01        LARCENY-THEFT  85014   \n",
       "4  201700000000000  2015-11-01        LARCENY-THEFT  85085   \n",
       "\n",
       "          PREMISE TYPE  YEAR  MONTH  DAY DayofWeek  \n",
       "0  SINGLE FAMILY HOUSE  2015     11    1    Sunday  \n",
       "1  SINGLE FAMILY HOUSE  2015     11    1    Sunday  \n",
       "2  SINGLE FAMILY HOUSE  2015     11    1    Sunday  \n",
       "3          PARKING LOT  2015     11    1    Sunday  \n",
       "4  SINGLE FAMILY HOUSE  2015     11    1    Sunday  "
      ]
     },
     "execution_count": 1,
     "metadata": {},
     "output_type": "execute_result"
    }
   ],
   "source": [
    "import pandas as pd\n",
    "import numpy as np\n",
    "import matplotlib.pyplot as plt\n",
    "import datetime as dt\n",
    "import gmaps\n",
    "\n",
    "#read in datafile, convert to dataframe\n",
    "data = pd.DataFrame(pd.read_csv('Resources/crime-data.csv', low_memory=False)).drop(['100 BLOCK ADDR', 'OCCURRED TO'], axis=1)\n",
    "\n",
    "#Data cleansing & manipulation\n",
    "#datatypes\n",
    "data['INC NUMBER'] = data['INC NUMBER'].apply(str).replace('\\.0', '', regex=True)\n",
    "data['OCCURRED ON'] = data['OCCURRED ON'].astype(str)\n",
    "data['UCR CRIME CATEGORY'] = data['UCR CRIME CATEGORY'].astype(str)\n",
    "data['ZIP'] = data['ZIP'].apply(str).replace('\\.0', '', regex=True)\n",
    "data['PREMISE TYPE'] = data['PREMISE TYPE'].astype(str)\n",
    "\n",
    "#regroup/rename\n",
    "data.loc[data['PREMISE TYPE'] == '07A STOREROOM/SHED (COMMERCIAL)', ['PREMISE TYPE']] = 'STOREROOM / SHED'\n",
    "data.loc[data['PREMISE TYPE'] == '07A STOREROOM/SHED (RESIDENTIAL)', ['PREMISE TYPE']] = 'STOREROOM / SHED'\n",
    "data.loc[data['PREMISE TYPE'] == 'BAR / LOUNG / NIGHT CLUB', ['PREMISE TYPE']] = 'BAR / LOUNGE / NIGHTCLUB'\n",
    "data.loc[data['PREMISE TYPE'] == 'GARAGE / CARPORT', ['PREMISE TYPE']] = 'GARAGE'\n",
    "data.loc[data['PREMISE TYPE'] == 'CARPORT', ['PREMISE TYPE']] = 'GARAGE'\n",
    "data.loc[data['PREMISE TYPE'] == 'BUS', ['PREMISE TYPE']] = 'ON THE BUS'\n",
    "data.loc[data['PREMISE TYPE'] == 'FAST FOOD STORE', ['PREMISE TYPE']] = 'RESTAURANT'\n",
    "data.loc[data['PREMISE TYPE'] == 'FOJ - PREMISE UNKNOWN', ['PREMISE TYPE']] = 'UNKNOWN'\n",
    "data.loc[data['PREMISE TYPE'] == 'HOSPITAL', ['PREMISE TYPE']] = 'HOSPITAL / NURSING CARE'\n",
    "data.loc[data['PREMISE TYPE'] == 'SCHOOL-COLLEGE/UNIVERSITY', ['PREMISE TYPE']] = 'SCHOOL/COLLEGE/CHILDCARE'\n",
    "data.loc[data['PREMISE TYPE'] == 'SCHOOL-ELEMENTARY/SECONDARY', ['PREMISE TYPE']] = 'SCHOOL/COLLEGE/CHILDCARE'\n",
    "data.loc[data['PREMISE TYPE'] == 'SCHOOL-OTHER', ['PREMISE TYPE']] = 'SCHOOL/COLLEGE/CHILDCARE'\n",
    "data.loc[data['PREMISE TYPE'] == 'SINGLE FAMILY HOUSING', ['PREMISE TYPE']] = 'SINGLE FAMILY HOUSE'\n",
    "data.loc[data['PREMISE TYPE'] == 'STREET / ROADWAY / ALLEY SIDEWALK', ['PREMISE TYPE']] = 'STREET / ROADWAY / ALLEY / SIDEWALK'\n",
    "data.loc[data['PREMISE TYPE'] == 'RAIL STATION', ['PREMISE TYPE']] = 'TRAIN STATION'\n",
    "data.loc[data['PREMISE TYPE'] == 'WAREHOUSE / FACTORY', ['PREMISE TYPE']] = 'INDUSTRIAL SITE'\n",
    "\n",
    "#clean up data\n",
    "data = data[data['PREMISE TYPE'] != 'NaN']\n",
    "data = data[data['PREMISE TYPE'] != '']\n",
    "data = data[data['ZIP'] != 'NaN']\n",
    "data = data[data['ZIP'] != '']\n",
    "data = data[data['OCCURRED ON'] != 'NaN']\n",
    "data = data[data['OCCURRED ON'] != '']\n",
    "#data = data[data['INC NUMBER'] != 'NaN'\n",
    "#data = data[data['INC NUMBER'] != '']\n",
    "data = data[data['UCR CRIME CATEGORY'] != 'NaN']\n",
    "\n",
    "data['OCCURRED ON'] = pd.to_datetime(data['OCCURRED ON'])\n",
    "\n",
    "#parse & add columns for year/month/day \n",
    "#YEAR = data['INC NUMBER'].str[:4].astype(int) #Inc number does not correspondd with Occurred on year in all cases\n",
    "YEAR = data['OCCURRED ON'].dt.year\n",
    "data['YEAR'] = YEAR.fillna(0.0).astype(int)\n",
    "#data = data.rename(columns = {'INC NUMBER':'YEAR'})\n",
    "\n",
    "MONTH = data['OCCURRED ON'].dt.month\n",
    "DAY = data['OCCURRED ON'].dt.day\n",
    "\n",
    "data['MONTH'] = MONTH.fillna(0.0).astype(int)\n",
    "data['DAY'] = DAY.fillna(0.0).astype(int)\n",
    "\n",
    "dayofweek = data['OCCURRED ON'].dt.weekday_name\n",
    "data['DayofWeek'] = dayofweek\n",
    "\n",
    "data.head()"
   ]
  },
  {
   "cell_type": "code",
   "execution_count": 2,
   "metadata": {},
   "outputs": [
    {
     "data": {
      "text/html": [
       "<div>\n",
       "<style scoped>\n",
       "    .dataframe tbody tr th:only-of-type {\n",
       "        vertical-align: middle;\n",
       "    }\n",
       "\n",
       "    .dataframe tbody tr th {\n",
       "        vertical-align: top;\n",
       "    }\n",
       "\n",
       "    .dataframe thead th {\n",
       "        text-align: right;\n",
       "    }\n",
       "</style>\n",
       "<table border=\"1\" class=\"dataframe\">\n",
       "  <thead>\n",
       "    <tr style=\"text-align: right;\">\n",
       "      <th></th>\n",
       "      <th>INC NUMBER</th>\n",
       "      <th>OCCURRED ON</th>\n",
       "      <th>UCR CRIME CATEGORY</th>\n",
       "      <th>ZIP</th>\n",
       "      <th>PREMISE TYPE</th>\n",
       "      <th>YEAR</th>\n",
       "      <th>MONTH</th>\n",
       "      <th>DAY</th>\n",
       "      <th>DayofWeek</th>\n",
       "    </tr>\n",
       "  </thead>\n",
       "  <tbody>\n",
       "    <tr>\n",
       "      <th>10169</th>\n",
       "      <td>201700000000000</td>\n",
       "      <td>2016-01-01</td>\n",
       "      <td>RAPE</td>\n",
       "      <td>85017</td>\n",
       "      <td>SINGLE FAMILY HOUSE</td>\n",
       "      <td>2016</td>\n",
       "      <td>1</td>\n",
       "      <td>1</td>\n",
       "      <td>Friday</td>\n",
       "    </tr>\n",
       "    <tr>\n",
       "      <th>10170</th>\n",
       "      <td>201700000000000</td>\n",
       "      <td>2016-01-01</td>\n",
       "      <td>LARCENY-THEFT</td>\n",
       "      <td>85029</td>\n",
       "      <td>MOBILE HOME</td>\n",
       "      <td>2016</td>\n",
       "      <td>1</td>\n",
       "      <td>1</td>\n",
       "      <td>Friday</td>\n",
       "    </tr>\n",
       "    <tr>\n",
       "      <th>10171</th>\n",
       "      <td>201600000000000</td>\n",
       "      <td>2016-01-01</td>\n",
       "      <td>MOTOR VEHICLE THEFT</td>\n",
       "      <td>85041</td>\n",
       "      <td>DRIVEWAY</td>\n",
       "      <td>2016</td>\n",
       "      <td>1</td>\n",
       "      <td>1</td>\n",
       "      <td>Friday</td>\n",
       "    </tr>\n",
       "    <tr>\n",
       "      <th>10172</th>\n",
       "      <td>201600000000000</td>\n",
       "      <td>2016-01-01</td>\n",
       "      <td>RAPE</td>\n",
       "      <td>85051</td>\n",
       "      <td>nan</td>\n",
       "      <td>2016</td>\n",
       "      <td>1</td>\n",
       "      <td>1</td>\n",
       "      <td>Friday</td>\n",
       "    </tr>\n",
       "    <tr>\n",
       "      <th>10173</th>\n",
       "      <td>201600000000000</td>\n",
       "      <td>2016-01-01</td>\n",
       "      <td>LARCENY-THEFT</td>\n",
       "      <td>85053</td>\n",
       "      <td>APARTMENT</td>\n",
       "      <td>2016</td>\n",
       "      <td>1</td>\n",
       "      <td>1</td>\n",
       "      <td>Friday</td>\n",
       "    </tr>\n",
       "  </tbody>\n",
       "</table>\n",
       "</div>"
      ],
      "text/plain": [
       "            INC NUMBER OCCURRED ON   UCR CRIME CATEGORY    ZIP  \\\n",
       "10169  201700000000000  2016-01-01                 RAPE  85017   \n",
       "10170  201700000000000  2016-01-01        LARCENY-THEFT  85029   \n",
       "10171  201600000000000  2016-01-01  MOTOR VEHICLE THEFT  85041   \n",
       "10172  201600000000000  2016-01-01                 RAPE  85051   \n",
       "10173  201600000000000  2016-01-01        LARCENY-THEFT  85053   \n",
       "\n",
       "              PREMISE TYPE  YEAR  MONTH  DAY DayofWeek  \n",
       "10169  SINGLE FAMILY HOUSE  2016      1    1    Friday  \n",
       "10170          MOBILE HOME  2016      1    1    Friday  \n",
       "10171             DRIVEWAY  2016      1    1    Friday  \n",
       "10172                  nan  2016      1    1    Friday  \n",
       "10173            APARTMENT  2016      1    1    Friday  "
      ]
     },
     "execution_count": 2,
     "metadata": {},
     "output_type": "execute_result"
    }
   ],
   "source": [
    "#remove year = 0 & 2015 (only 2 month of data)\n",
    "data = data[data['YEAR'] > 2015] \n",
    "data.head()"
   ]
  },
  {
   "cell_type": "markdown",
   "metadata": {},
   "source": [
    "# Most category/premise type"
   ]
  },
  {
   "cell_type": "code",
   "execution_count": 3,
   "metadata": {},
   "outputs": [
    {
     "data": {
      "text/html": [
       "<div>\n",
       "<style scoped>\n",
       "    .dataframe tbody tr th:only-of-type {\n",
       "        vertical-align: middle;\n",
       "    }\n",
       "\n",
       "    .dataframe tbody tr th {\n",
       "        vertical-align: top;\n",
       "    }\n",
       "\n",
       "    .dataframe thead th {\n",
       "        text-align: right;\n",
       "    }\n",
       "</style>\n",
       "<table border=\"1\" class=\"dataframe\">\n",
       "  <thead>\n",
       "    <tr style=\"text-align: right;\">\n",
       "      <th></th>\n",
       "      <th></th>\n",
       "      <th>OCCURRENCES</th>\n",
       "    </tr>\n",
       "    <tr>\n",
       "      <th>UCR CRIME CATEGORY</th>\n",
       "      <th>PREMISE TYPE</th>\n",
       "      <th></th>\n",
       "    </tr>\n",
       "  </thead>\n",
       "  <tbody>\n",
       "    <tr>\n",
       "      <th>BURGLARY</th>\n",
       "      <th>SINGLE FAMILY HOUSE</th>\n",
       "      <td>19085</td>\n",
       "    </tr>\n",
       "    <tr>\n",
       "      <th>LARCENY-THEFT</th>\n",
       "      <th>RETAIL BUSINESS</th>\n",
       "      <td>15968</td>\n",
       "    </tr>\n",
       "    <tr>\n",
       "      <th>MOTOR VEHICLE THEFT</th>\n",
       "      <th>PARKING LOT</th>\n",
       "      <td>6789</td>\n",
       "    </tr>\n",
       "    <tr>\n",
       "      <th>DRUG OFFENSE</th>\n",
       "      <th>STREET / ROADWAY / ALLEY / SIDEWALK</th>\n",
       "      <td>6131</td>\n",
       "    </tr>\n",
       "    <tr>\n",
       "      <th>AGGRAVATED ASSAULT</th>\n",
       "      <th>APARTMENT</th>\n",
       "      <td>4583</td>\n",
       "    </tr>\n",
       "    <tr>\n",
       "      <th>ROBBERY</th>\n",
       "      <th>STREET / ROADWAY / ALLEY / SIDEWALK</th>\n",
       "      <td>2642</td>\n",
       "    </tr>\n",
       "    <tr>\n",
       "      <th>RAPE</th>\n",
       "      <th>SINGLE FAMILY HOUSE</th>\n",
       "      <td>1079</td>\n",
       "    </tr>\n",
       "    <tr>\n",
       "      <th>ARSON</th>\n",
       "      <th>nan</th>\n",
       "      <td>693</td>\n",
       "    </tr>\n",
       "    <tr>\n",
       "      <th>MURDER AND NON-NEGLIGENT MANSLAUGHTER</th>\n",
       "      <th>SINGLE FAMILY HOUSE</th>\n",
       "      <td>101</td>\n",
       "    </tr>\n",
       "  </tbody>\n",
       "</table>\n",
       "</div>"
      ],
      "text/plain": [
       "                                                                           OCCURRENCES\n",
       "UCR CRIME CATEGORY                    PREMISE TYPE                                    \n",
       "BURGLARY                              SINGLE FAMILY HOUSE                        19085\n",
       "LARCENY-THEFT                         RETAIL BUSINESS                            15968\n",
       "MOTOR VEHICLE THEFT                   PARKING LOT                                 6789\n",
       "DRUG OFFENSE                          STREET / ROADWAY / ALLEY / SIDEWALK         6131\n",
       "AGGRAVATED ASSAULT                    APARTMENT                                   4583\n",
       "ROBBERY                               STREET / ROADWAY / ALLEY / SIDEWALK         2642\n",
       "RAPE                                  SINGLE FAMILY HOUSE                         1079\n",
       "ARSON                                 nan                                          693\n",
       "MURDER AND NON-NEGLIGENT MANSLAUGHTER SINGLE FAMILY HOUSE                          101"
      ]
     },
     "execution_count": 3,
     "metadata": {},
     "output_type": "execute_result"
    }
   ],
   "source": [
    "###Most common premise type for each crime category\n",
    "\n",
    "cattype = data.groupby(['UCR CRIME CATEGORY', 'PREMISE TYPE']).count()[['OCCURRED ON']].sort_values(['UCR CRIME CATEGORY','OCCURRED ON'], ascending=False)#.nlargest(5,'OCCURRED ON')\n",
    "\n",
    "#print(type(cattype))\n",
    "cattype=cattype.rename(columns = {\"OCCURRED ON\":\"OCCURRENCES\"})\n",
    "\n",
    "cattype=cattype.groupby(['UCR CRIME CATEGORY']).head(1).sort_values(by=['OCCURRENCES'], ascending=False)\n",
    "\n",
    "cattype.to_csv ('PremiseTypeByCategory.csv', index=True, header=True)\n",
    "\n",
    "cattype\n"
   ]
  },
  {
   "cell_type": "markdown",
   "metadata": {},
   "source": [
    "# Most common premise type"
   ]
  },
  {
   "cell_type": "code",
   "execution_count": 4,
   "metadata": {},
   "outputs": [
    {
     "data": {
      "text/html": [
       "<div>\n",
       "<style scoped>\n",
       "    .dataframe tbody tr th:only-of-type {\n",
       "        vertical-align: middle;\n",
       "    }\n",
       "\n",
       "    .dataframe tbody tr th {\n",
       "        vertical-align: top;\n",
       "    }\n",
       "\n",
       "    .dataframe thead th {\n",
       "        text-align: right;\n",
       "    }\n",
       "</style>\n",
       "<table border=\"1\" class=\"dataframe\">\n",
       "  <thead>\n",
       "    <tr style=\"text-align: right;\">\n",
       "      <th></th>\n",
       "      <th>OCCURRENCES</th>\n",
       "    </tr>\n",
       "    <tr>\n",
       "      <th>PREMISE TYPE</th>\n",
       "      <th></th>\n",
       "    </tr>\n",
       "  </thead>\n",
       "  <tbody>\n",
       "    <tr>\n",
       "      <th>SINGLE FAMILY HOUSE</th>\n",
       "      <td>44520</td>\n",
       "    </tr>\n",
       "    <tr>\n",
       "      <th>APARTMENT</th>\n",
       "      <td>27821</td>\n",
       "    </tr>\n",
       "    <tr>\n",
       "      <th>STREET / ROADWAY / ALLEY / SIDEWALK</th>\n",
       "      <td>25494</td>\n",
       "    </tr>\n",
       "    <tr>\n",
       "      <th>PARKING LOT</th>\n",
       "      <td>24345</td>\n",
       "    </tr>\n",
       "    <tr>\n",
       "      <th>RETAIL BUSINESS</th>\n",
       "      <td>18436</td>\n",
       "    </tr>\n",
       "  </tbody>\n",
       "</table>\n",
       "</div>"
      ],
      "text/plain": [
       "                                     OCCURRENCES\n",
       "PREMISE TYPE                                    \n",
       "SINGLE FAMILY HOUSE                        44520\n",
       "APARTMENT                                  27821\n",
       "STREET / ROADWAY / ALLEY / SIDEWALK        25494\n",
       "PARKING LOT                                24345\n",
       "RETAIL BUSINESS                            18436"
      ]
     },
     "execution_count": 4,
     "metadata": {},
     "output_type": "execute_result"
    }
   ],
   "source": [
    "###Most common premise type\n",
    "\n",
    "premtype = data.groupby(['PREMISE TYPE']).count()[['OCCURRED ON']]\n",
    "\n",
    "#cattype = cattype.reset_index().sort_values(['UCR CRIME CATEGORY','OCCURRED ON'],ascending=False).set_index(['UCR CRIME CATEGORY','PREMISE TYPE'])\n",
    "premtype=premtype.rename(columns = {\"OCCURRED ON\":\"OCCURRENCES\"})\n",
    "\n",
    "premtype = premtype.sort_values(by=['OCCURRENCES'], ascending=False)\n",
    "\n",
    "premtype.to_csv ('PremiseType.csv', index=True, header=True)\n",
    "\n",
    "\n",
    "premtype.head()"
   ]
  },
  {
   "cell_type": "markdown",
   "metadata": {},
   "source": [
    "# Most common crime type"
   ]
  },
  {
   "cell_type": "code",
   "execution_count": 5,
   "metadata": {},
   "outputs": [
    {
     "data": {
      "text/html": [
       "<div>\n",
       "<style scoped>\n",
       "    .dataframe tbody tr th:only-of-type {\n",
       "        vertical-align: middle;\n",
       "    }\n",
       "\n",
       "    .dataframe tbody tr th {\n",
       "        vertical-align: top;\n",
       "    }\n",
       "\n",
       "    .dataframe thead th {\n",
       "        text-align: right;\n",
       "    }\n",
       "</style>\n",
       "<table border=\"1\" class=\"dataframe\">\n",
       "  <thead>\n",
       "    <tr style=\"text-align: right;\">\n",
       "      <th></th>\n",
       "      <th>OCCURRENCES</th>\n",
       "    </tr>\n",
       "    <tr>\n",
       "      <th>UCR CRIME CATEGORY</th>\n",
       "      <th></th>\n",
       "    </tr>\n",
       "  </thead>\n",
       "  <tbody>\n",
       "    <tr>\n",
       "      <th>LARCENY-THEFT</th>\n",
       "      <td>123438</td>\n",
       "    </tr>\n",
       "    <tr>\n",
       "      <th>BURGLARY</th>\n",
       "      <td>38680</td>\n",
       "    </tr>\n",
       "    <tr>\n",
       "      <th>MOTOR VEHICLE THEFT</th>\n",
       "      <td>25649</td>\n",
       "    </tr>\n",
       "    <tr>\n",
       "      <th>DRUG OFFENSE</th>\n",
       "      <td>20519</td>\n",
       "    </tr>\n",
       "    <tr>\n",
       "      <th>AGGRAVATED ASSAULT</th>\n",
       "      <td>18705</td>\n",
       "    </tr>\n",
       "  </tbody>\n",
       "</table>\n",
       "</div>"
      ],
      "text/plain": [
       "                     OCCURRENCES\n",
       "UCR CRIME CATEGORY              \n",
       "LARCENY-THEFT             123438\n",
       "BURGLARY                   38680\n",
       "MOTOR VEHICLE THEFT        25649\n",
       "DRUG OFFENSE               20519\n",
       "AGGRAVATED ASSAULT         18705"
      ]
     },
     "execution_count": 5,
     "metadata": {},
     "output_type": "execute_result"
    }
   ],
   "source": [
    "###Most common crime type\n",
    "\n",
    "category = data.groupby(['UCR CRIME CATEGORY']).count()[['OCCURRED ON']]\n",
    "\n",
    "category=category.rename(columns = {\"OCCURRED ON\":\"OCCURRENCES\"})\n",
    "\n",
    "category = category.sort_values(by=['OCCURRENCES'], ascending=False)\n",
    "\n",
    "category.to_csv ('category.csv', index=True, header=True)\n",
    "\n",
    "category.head()\n",
    "#data['UCR CRIME CATEGORY'].value_counts()"
   ]
  },
  {
   "cell_type": "code",
   "execution_count": 21,
   "metadata": {},
   "outputs": [
    {
     "data": {
      "image/png": "[encoded data removed]",
      "text/plain": [
       "<Figure size 432x288 with 1 Axes>"
      ]
     },
     "metadata": {},
     "output_type": "display_data"
    }
   ],
   "source": [
    "datacat = data[\"UCR CRIME CATEGORY\"].groupby(data[\"UCR CRIME CATEGORY\"]).count().sort_values(ascending=False)\n",
    "colors = ['b', 'g', 'r', 'c', 'm', 'y', 'k', 'w', 'forestgreen']\n",
    "labels = ['THEFT', 'BURGLARY', 'MOTOR VEHICLE THEFT', 'DRUG OFFENSE', 'AGGRAVATED ASSAULT', 'ROBBERY', 'RAPE', 'ARSON', 'MURDER']\n",
    "plt.pie(datacat, colors=colors, labels=labels, counterclock=False, shadow=True)\n",
    "plt.legend(labels,\n",
    "          title=\"Crime Types\",\n",
    "          loc=\"center left\",\n",
    "          bbox_to_anchor=(1.5, 0, 0.5, 1))\n",
    "plt.show()"
   ]
  },
  {
   "cell_type": "code",
   "execution_count": 14,
   "metadata": {},
   "outputs": [
    {
     "data": {
      "text/plain": [
       "<matplotlib.legend.Legend at 0x2b4823ea0b8>"
      ]
     },
     "execution_count": 14,
     "metadata": {},
     "output_type": "execute_result"
    },
    {
     "data": {
      "image/png": "[encoded data removed]",
      "text/plain": [
       "<Figure size 432x288 with 1 Axes>"
      ]
     },
     "metadata": {
      "needs_background": "light"
     },
     "output_type": "display_data"
    }
   ],
   "source": []
  },
  {
   "cell_type": "markdown",
   "metadata": {},
   "source": [
    "# Crime type by year"
   ]
  },
  {
   "cell_type": "code",
   "execution_count": 22,
   "metadata": {},
   "outputs": [
    {
     "data": {
      "text/html": [
       "<div>\n",
       "<style scoped>\n",
       "    .dataframe tbody tr th:only-of-type {\n",
       "        vertical-align: middle;\n",
       "    }\n",
       "\n",
       "    .dataframe tbody tr th {\n",
       "        vertical-align: top;\n",
       "    }\n",
       "\n",
       "    .dataframe thead th {\n",
       "        text-align: right;\n",
       "    }\n",
       "</style>\n",
       "<table border=\"1\" class=\"dataframe\">\n",
       "  <thead>\n",
       "    <tr style=\"text-align: right;\">\n",
       "      <th></th>\n",
       "      <th></th>\n",
       "      <th>OCCURRED ON</th>\n",
       "    </tr>\n",
       "    <tr>\n",
       "      <th>YEAR</th>\n",
       "      <th>DayofWeek</th>\n",
       "      <th></th>\n",
       "    </tr>\n",
       "  </thead>\n",
       "  <tbody>\n",
       "    <tr>\n",
       "      <th rowspan=\"7\" valign=\"top\">2016</th>\n",
       "      <th>Friday</th>\n",
       "      <td>9875</td>\n",
       "    </tr>\n",
       "    <tr>\n",
       "      <th>Monday</th>\n",
       "      <td>8860</td>\n",
       "    </tr>\n",
       "    <tr>\n",
       "      <th>Saturday</th>\n",
       "      <td>8754</td>\n",
       "    </tr>\n",
       "    <tr>\n",
       "      <th>Sunday</th>\n",
       "      <td>7747</td>\n",
       "    </tr>\n",
       "    <tr>\n",
       "      <th>Thursday</th>\n",
       "      <td>9244</td>\n",
       "    </tr>\n",
       "    <tr>\n",
       "      <th>Tuesday</th>\n",
       "      <td>9289</td>\n",
       "    </tr>\n",
       "    <tr>\n",
       "      <th>Wednesday</th>\n",
       "      <td>9423</td>\n",
       "    </tr>\n",
       "    <tr>\n",
       "      <th rowspan=\"7\" valign=\"top\">2017</th>\n",
       "      <th>Friday</th>\n",
       "      <td>10023</td>\n",
       "    </tr>\n",
       "    <tr>\n",
       "      <th>Monday</th>\n",
       "      <td>9378</td>\n",
       "    </tr>\n",
       "    <tr>\n",
       "      <th>Saturday</th>\n",
       "      <td>9116</td>\n",
       "    </tr>\n",
       "    <tr>\n",
       "      <th>Sunday</th>\n",
       "      <td>8752</td>\n",
       "    </tr>\n",
       "    <tr>\n",
       "      <th>Thursday</th>\n",
       "      <td>9576</td>\n",
       "    </tr>\n",
       "    <tr>\n",
       "      <th>Tuesday</th>\n",
       "      <td>9478</td>\n",
       "    </tr>\n",
       "    <tr>\n",
       "      <th>Wednesday</th>\n",
       "      <td>9689</td>\n",
       "    </tr>\n",
       "    <tr>\n",
       "      <th rowspan=\"7\" valign=\"top\">2018</th>\n",
       "      <th>Friday</th>\n",
       "      <td>9730</td>\n",
       "    </tr>\n",
       "    <tr>\n",
       "      <th>Monday</th>\n",
       "      <td>9642</td>\n",
       "    </tr>\n",
       "    <tr>\n",
       "      <th>Saturday</th>\n",
       "      <td>8913</td>\n",
       "    </tr>\n",
       "    <tr>\n",
       "      <th>Sunday</th>\n",
       "      <td>8515</td>\n",
       "    </tr>\n",
       "    <tr>\n",
       "      <th>Thursday</th>\n",
       "      <td>9453</td>\n",
       "    </tr>\n",
       "    <tr>\n",
       "      <th>Tuesday</th>\n",
       "      <td>9301</td>\n",
       "    </tr>\n",
       "    <tr>\n",
       "      <th>Wednesday</th>\n",
       "      <td>9203</td>\n",
       "    </tr>\n",
       "    <tr>\n",
       "      <th rowspan=\"7\" valign=\"top\">2019</th>\n",
       "      <th>Friday</th>\n",
       "      <td>7424</td>\n",
       "    </tr>\n",
       "    <tr>\n",
       "      <th>Monday</th>\n",
       "      <td>6883</td>\n",
       "    </tr>\n",
       "    <tr>\n",
       "      <th>Saturday</th>\n",
       "      <td>6783</td>\n",
       "    </tr>\n",
       "    <tr>\n",
       "      <th>Sunday</th>\n",
       "      <td>6194</td>\n",
       "    </tr>\n",
       "    <tr>\n",
       "      <th>Thursday</th>\n",
       "      <td>7336</td>\n",
       "    </tr>\n",
       "    <tr>\n",
       "      <th>Tuesday</th>\n",
       "      <td>7205</td>\n",
       "    </tr>\n",
       "    <tr>\n",
       "      <th>Wednesday</th>\n",
       "      <td>7185</td>\n",
       "    </tr>\n",
       "  </tbody>\n",
       "</table>\n",
       "</div>"
      ],
      "text/plain": [
       "                OCCURRED ON\n",
       "YEAR DayofWeek             \n",
       "2016 Friday            9875\n",
       "     Monday            8860\n",
       "     Saturday          8754\n",
       "     Sunday            7747\n",
       "     Thursday          9244\n",
       "     Tuesday           9289\n",
       "     Wednesday         9423\n",
       "2017 Friday           10023\n",
       "     Monday            9378\n",
       "     Saturday          9116\n",
       "     Sunday            8752\n",
       "     Thursday          9576\n",
       "     Tuesday           9478\n",
       "     Wednesday         9689\n",
       "2018 Friday            9730\n",
       "     Monday            9642\n",
       "     Saturday          8913\n",
       "     Sunday            8515\n",
       "     Thursday          9453\n",
       "     Tuesday           9301\n",
       "     Wednesday         9203\n",
       "2019 Friday            7424\n",
       "     Monday            6883\n",
       "     Saturday          6783\n",
       "     Sunday            6194\n",
       "     Thursday          7336\n",
       "     Tuesday           7205\n",
       "     Wednesday         7185"
      ]
     },
     "execution_count": 22,
     "metadata": {},
     "output_type": "execute_result"
    }
   ],
   "source": [
    "weekday = data.groupby(['YEAR','DayofWeek']).count()[['OCCURRED ON']]\n",
    "weekday "
   ]
  },
  {
   "cell_type": "code",
   "execution_count": 23,
   "metadata": {},
   "outputs": [
    {
     "data": {
      "image/png": "[encoded data removed]",
      "text/plain": [
       "<Figure size 432x288 with 1 Axes>"
      ]
     },
     "metadata": {
      "needs_background": "light"
     },
     "output_type": "display_data"
    }
   ],
   "source": [
    "###Most common crime in single family house\n",
    "\n",
    "prem = data[data['PREMISE TYPE'] == \"SINGLE FAMILY HOUSE\"] \n",
    "premgroup = prem.groupby(['UCR CRIME CATEGORY', 'YEAR']).count()['OCCURRED ON'].reset_index()\n",
    "premgrouppivot = premgroup.pivot(index='UCR CRIME CATEGORY', columns='YEAR', values='OCCURRED ON')\n",
    "premgrouppivot.plot(kind='bar')\n",
    "plt.xlabel(\"Number of Occurrences\")\n",
    "plt.ylabel(\"Crime Category\")\n",
    "plt.title(\"Single Family Home - Crime Category Occurrences by Year\")\n",
    "plt.savefig(\"Single Family Home - Crime Category Occurrences by Year.png\", bbox_inches='tight')"
   ]
  },
  {
   "cell_type": "code",
   "execution_count": 24,
   "metadata": {},
   "outputs": [
    {
     "data": {
      "image/png": "[encoded data removed]",
      "text/plain": [
       "<Figure size 432x288 with 1 Axes>"
      ]
     },
     "metadata": {
      "needs_background": "light"
     },
     "output_type": "display_data"
    }
   ],
   "source": [
    "#most common crime each year\n",
    "catyear = data.groupby(['YEAR','UCR CRIME CATEGORY']).count()['OCCURRED ON'].reset_index()\n",
    "catyearpivot = catyear.pivot(index='UCR CRIME CATEGORY', columns='YEAR', values='OCCURRED ON')\n",
    "catyearpivot.plot(kind='barh')\n",
    "plt.xlabel(\"Number of Occurrences\")\n",
    "plt.ylabel(\"Crime Category\")\n",
    "plt.title(\"Crime Category Occurrences by Year\")\n",
    "plt.savefig(\"Crime Category Occurrences by Year.png\", bbox_inches='tight')"
   ]
  },
  {
   "cell_type": "markdown",
   "metadata": {},
   "source": [
    "# Most Crime prone zip"
   ]
  },
  {
   "cell_type": "code",
   "execution_count": 25,
   "metadata": {},
   "outputs": [
    {
     "data": {
      "image/png": "[encoded data removed]",
      "text/plain": [
       "<Figure size 432x288 with 1 Axes>"
      ]
     },
     "metadata": {
      "needs_background": "light"
     },
     "output_type": "display_data"
    }
   ],
   "source": [
    "#total by zip\n",
    "#5 - Most crime-prone ZIP\n",
    "datazip = data[\"ZIP\"].groupby(data[\"ZIP\"]).count().sort_values(ascending=False)\n",
    "datazip.head(20).plot(kind=\"barh\")\n",
    "plt.xlabel(\"Number of Occurrences\")\n",
    "plt.ylabel(\"Zip Code\")\n",
    "plt.title(\"Crime Occurrences by Zip Code (Top 20)\")\n",
    "plt.savefig(\"Crime Rates by Zip Code.png\")"
   ]
  },
  {
   "cell_type": "markdown",
   "metadata": {},
   "source": [
    "# Crime by month"
   ]
  },
  {
   "cell_type": "code",
   "execution_count": 26,
   "metadata": {},
   "outputs": [
    {
     "data": {
      "image/png": "[encoded data removed]",
      "text/plain": [
       "<Figure size 432x288 with 1 Axes>"
      ]
     },
     "metadata": {
      "needs_background": "light"
     },
     "output_type": "display_data"
    }
   ],
   "source": [
    "#4 - Relationship between crimes and date\n",
    "#larceny (highest crime) by month\n",
    "larceny =  data['UCR CRIME CATEGORY']==\"LARCENY-THEFT\"\n",
    "datalarceny = data[larceny]\n",
    "\n",
    "crimemonth = datalarceny.groupby(['YEAR','MONTH']).count()['OCCURRED ON'].reset_index()\n",
    "\n",
    "crimemonthpivot = crimemonth.pivot(index='MONTH', columns='YEAR', values='OCCURRED ON')\n",
    "crimemonthpivot.plot(kind='line')\n",
    "plt.xlim(1,12)\n",
    "plt.ylim(2000, 3500)\n",
    "plt.title(\"Larceny Crime Rate by Month\")\n",
    "plt.ylabel(\"Total Occurrences\")\n",
    "plt.savefig(\"Larceny Rates by Month.png\")"
   ]
  },
  {
   "cell_type": "code",
   "execution_count": 27,
   "metadata": {},
   "outputs": [
    {
     "data": {
      "image/png": "[encoded data removed]",
      "text/plain": [
       "<Figure size 432x288 with 1 Axes>"
      ]
     },
     "metadata": {
      "needs_background": "light"
     },
     "output_type": "display_data"
    }
   ],
   "source": [
    "#4 - Relationship between crimes and date\n",
    "#all crime by month\n",
    "allcrimemonth = data.groupby(['YEAR','MONTH']).count()['OCCURRED ON'].reset_index()\n",
    "\n",
    "allcrimemonth = allcrimemonth.pivot(index='MONTH', columns='YEAR', values='OCCURRED ON')\n",
    "allcrimemonth.plot(kind='line')\n",
    "plt.xlim(1,12)\n",
    "plt.ylim(3000, 6500)\n",
    "plt.title(\"Overall Crime Rate by Month\")\n",
    "plt.ylabel(\"Total Occurrences\")\n",
    "plt.savefig(\"Overall Crime Rates by Month.png\")"
   ]
  },
  {
   "cell_type": "code",
   "execution_count": 28,
   "metadata": {},
   "outputs": [
    {
     "data": {
      "text/html": [
       "<div>\n",
       "<style scoped>\n",
       "    .dataframe tbody tr th:only-of-type {\n",
       "        vertical-align: middle;\n",
       "    }\n",
       "\n",
       "    .dataframe tbody tr th {\n",
       "        vertical-align: top;\n",
       "    }\n",
       "\n",
       "    .dataframe thead th {\n",
       "        text-align: right;\n",
       "    }\n",
       "</style>\n",
       "<table border=\"1\" class=\"dataframe\">\n",
       "  <thead>\n",
       "    <tr style=\"text-align: right;\">\n",
       "      <th></th>\n",
       "      <th>UCR CRIME CATEGORY</th>\n",
       "    </tr>\n",
       "    <tr>\n",
       "      <th>ZIP</th>\n",
       "      <th></th>\n",
       "    </tr>\n",
       "  </thead>\n",
       "  <tbody>\n",
       "    <tr>\n",
       "      <th>85015</th>\n",
       "      <td>12517</td>\n",
       "    </tr>\n",
       "    <tr>\n",
       "      <th>85008</th>\n",
       "      <td>11416</td>\n",
       "    </tr>\n",
       "    <tr>\n",
       "      <th>85009</th>\n",
       "      <td>10671</td>\n",
       "    </tr>\n",
       "    <tr>\n",
       "      <th>85041</th>\n",
       "      <td>10445</td>\n",
       "    </tr>\n",
       "    <tr>\n",
       "      <th>85051</th>\n",
       "      <td>10352</td>\n",
       "    </tr>\n",
       "  </tbody>\n",
       "</table>\n",
       "</div>"
      ],
      "text/plain": [
       "       UCR CRIME CATEGORY\n",
       "ZIP                      \n",
       "85015               12517\n",
       "85008               11416\n",
       "85009               10671\n",
       "85041               10445\n",
       "85051               10352"
      ]
     },
     "execution_count": 28,
     "metadata": {},
     "output_type": "execute_result"
    }
   ],
   "source": [
    "concise = pd.DataFrame(data.drop(['INC NUMBER', 'OCCURRED ON', 'PREMISE TYPE', 'YEAR', 'MONTH', 'DAY', 'DayofWeek'], axis=1).groupby('ZIP')['UCR CRIME CATEGORY'].count()).sort_values(['UCR CRIME CATEGORY'], ascending=False)\n",
    "concise.head()"
   ]
  },
  {
   "cell_type": "markdown",
   "metadata": {},
   "source": [
    "# Relationship between housing price and crime rate"
   ]
  },
  {
   "cell_type": "code",
   "execution_count": 29,
   "metadata": {},
   "outputs": [
    {
     "data": {
      "text/plain": [
       "ZIP                       object\n",
       "Number of Occurrences    float64\n",
       "Percent Change           float64\n",
       "dtype: object"
      ]
     },
     "execution_count": 29,
     "metadata": {},
     "output_type": "execute_result"
    }
   ],
   "source": [
    "housing = pd.DataFrame(pd.read_csv('Resources/housing-data.csv'))\n",
    "housing['ZIP'] = housing['ZIP'].apply(str).replace('\\.0', '', regex=True)\n",
    "housing.groupby(['ZIP'])\n",
    "merged = pd.merge(concise, housing, on=\"ZIP\", how='outer')\n",
    "merged.columns = ['ZIP','Number of Occurrences','Percent Change']\n",
    "merged.drop([71], inplace=True)\n",
    "pd.to_numeric(merged['Number of Occurrences'])\n",
    "merged.dtypes"
   ]
  },
  {
   "cell_type": "code",
   "execution_count": 30,
   "metadata": {},
   "outputs": [
    {
     "data": {
      "image/png": "[encoded data removed]",
      "text/plain": [
       "<Figure size 432x288 with 1 Axes>"
      ]
     },
     "metadata": {
      "needs_background": "light"
     },
     "output_type": "display_data"
    }
   ],
   "source": [
    "plt.scatter(merged['Number of Occurrences'], merged['Percent Change'], marker=\"o\", facecolors=\"blue\")\n",
    "plt.title('Relationship between housing prices and crime incidence')\n",
    "plt.xlabel('Crime occurences')\n",
    "plt.ylabel('Percent change (%)')\n",
    "plt.xlim(-500, 13500)\n",
    "plt.ylim(-10, 30)\n",
    "plt.savefig(\"ReducedRelationship.png\")\n",
    "plt.show()"
   ]
  },
  {
   "cell_type": "code",
   "execution_count": 31,
   "metadata": {},
   "outputs": [
    {
     "data": {
      "image/png": "[encoded data removed]",
      "text/plain": [
       "<Figure size 432x288 with 1 Axes>"
      ]
     },
     "metadata": {
      "needs_background": "light"
     },
     "output_type": "display_data"
    }
   ],
   "source": [
    "plt.scatter(merged['Number of Occurrences'], merged['Percent Change'], marker=\"o\", facecolors=\"blue\")\n",
    "plt.title('Relationship between housing prices and crime incidence')\n",
    "plt.xlabel('Crime occurences')\n",
    "plt.ylabel('Percent change (%)')\n",
    "plt.savefig(\"GlobalRelationship.png\")\n",
    "plt.show()"
   ]
  },
  {
   "cell_type": "markdown",
   "metadata": {},
   "source": [
    "# Zip code map"
   ]
  },
  {
   "cell_type": "code",
   "execution_count": 32,
   "metadata": {},
   "outputs": [
    {
     "data": {
      "application/vnd.jupyter.widget-view+json": {
       "model_id": "2ef6d88ccf16427fa28820c0f0a60212",
       "version_major": 2,
       "version_minor": 0
      },
      "text/plain": [
       "Figure(layout=FigureLayout(border='1px solid black', height='300px', margin='0 auto 0 auto', padding='1px', wi…"
      ]
     },
     "metadata": {},
     "output_type": "display_data"
    }
   ],
   "source": [
    "# Access maps with unique API key\n",
    "gmaps.configure(api_key=\"sb`s key\")\n",
    "# Create a list containing coordinates\n",
    "coordinates = [\n",
    "   (33.498308, -112.101216),\n",
    "   (33.473225, -111.995941),\n",
    "   (33.459762, -112.116117),\n",
    "   (33.390954, -112.121464),\n",
    "   (33.564601, -112.133803),\n",
    "   (33.500310, -112.121432),\n",
    "   (33.472840, -112.211914),\n",
    "   (33.427081, -112.193438),\n",
    "   (33.562115, -112.088647),\n",
    "   (33.490222, -112.219086),\n",
    "   (33.622469, -111.996970),\n",
    "   (33.596344, -112.096274),\n",
    "   (33.631265, -112.096491),\n",
    "   (33.398969, -112.029268),\n",
    "   (33.507124, -112.031649),\n",
    "   (33.379962, -112.017409),\n",
    "   (33.626129, -112.042762),\n",
    "   (33.495601, -112.166627),\n",
    "   (33.495264, -112.257191),\n",
    "   (33.507946, -112.146488)\n",
    "]\n",
    "# Customize the size of the figure\n",
    "figure_layout = {\n",
    "   'width': '400px',\n",
    "   'height': '300px',\n",
    "   'border': '1px solid black',\n",
    "   'padding': '1px',\n",
    "   'margin': '0 auto 0 auto'\n",
    "}\n",
    "fig = gmaps.figure(layout=figure_layout)\n",
    "markers = gmaps.marker_layer(coordinates)\n",
    "fig.add_layer(markers)\n",
    "fig"
   ]
  },
  {
   "cell_type": "code",
   "execution_count": null,
   "metadata": {},
   "outputs": [],
   "source": []
  },
  {
   "cell_type": "code",
   "execution_count": null,
   "metadata": {},
   "outputs": [],
   "source": []
  },
  {
   "cell_type": "code",
   "execution_count": null,
   "metadata": {},
   "outputs": [],
   "source": []
  }
 ],
 "metadata": {
  "kernelspec": {
   "display_name": "Python 3",
   "language": "python",
   "name": "python3"
  },
  "language_info": {
   "codemirror_mode": {
    "name": "ipython",
    "version": 3
   },
   "file_extension": ".py",
   "mimetype": "text/x-python",
   "name": "python",
   "nbconvert_exporter": "python",
   "pygments_lexer": "ipython3",
   "version": "3.7.3"
  }
 },
 "nbformat": 4,
 "nbformat_minor": 2
}
