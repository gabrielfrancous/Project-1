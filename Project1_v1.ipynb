{
 "cells": [
  {
   "cell_type": "code",
   "execution_count": 1,
   "metadata": {},
   "outputs": [
    {
     "data": {
      "text/html": [
       "<div>\n",
       "<style scoped>\n",
       "    .dataframe tbody tr th:only-of-type {\n",
       "        vertical-align: middle;\n",
       "    }\n",
       "\n",
       "    .dataframe tbody tr th {\n",
       "        vertical-align: top;\n",
       "    }\n",
       "\n",
       "    .dataframe thead th {\n",
       "        text-align: right;\n",
       "    }\n",
       "</style>\n",
       "<table border=\"1\" class=\"dataframe\">\n",
       "  <thead>\n",
       "    <tr style=\"text-align: right;\">\n",
       "      <th></th>\n",
       "      <th>INC NUMBER</th>\n",
       "      <th>OCCURRED ON</th>\n",
       "      <th>UCR CRIME CATEGORY</th>\n",
       "      <th>ZIP</th>\n",
       "      <th>PREMISE TYPE</th>\n",
       "    </tr>\n",
       "  </thead>\n",
       "  <tbody>\n",
       "    <tr>\n",
       "      <th>0</th>\n",
       "      <td>201500000000000</td>\n",
       "      <td>2015-11-01</td>\n",
       "      <td>MOTOR VEHICLE THEFT</td>\n",
       "      <td>85307</td>\n",
       "      <td>SINGLE FAMILY HOUSE</td>\n",
       "    </tr>\n",
       "    <tr>\n",
       "      <th>1</th>\n",
       "      <td>201500000000000</td>\n",
       "      <td>2015-11-01</td>\n",
       "      <td>MOTOR VEHICLE THEFT</td>\n",
       "      <td>85043</td>\n",
       "      <td>SINGLE FAMILY HOUSE</td>\n",
       "    </tr>\n",
       "    <tr>\n",
       "      <th>2</th>\n",
       "      <td>201600000000000</td>\n",
       "      <td>2015-11-01</td>\n",
       "      <td>MOTOR VEHICLE THEFT</td>\n",
       "      <td>85029</td>\n",
       "      <td>SINGLE FAMILY HOUSE</td>\n",
       "    </tr>\n",
       "    <tr>\n",
       "      <th>3</th>\n",
       "      <td>201500000000000</td>\n",
       "      <td>2015-11-01</td>\n",
       "      <td>LARCENY-THEFT</td>\n",
       "      <td>85014</td>\n",
       "      <td>PARKING LOT</td>\n",
       "    </tr>\n",
       "    <tr>\n",
       "      <th>4</th>\n",
       "      <td>201700000000000</td>\n",
       "      <td>2015-11-01</td>\n",
       "      <td>LARCENY-THEFT</td>\n",
       "      <td>85085</td>\n",
       "      <td>SINGLE FAMILY HOUSE</td>\n",
       "    </tr>\n",
       "  </tbody>\n",
       "</table>\n",
       "</div>"
      ],
      "text/plain": [
       "        INC NUMBER OCCURRED ON   UCR CRIME CATEGORY    ZIP  \\\n",
       "0  201500000000000  2015-11-01  MOTOR VEHICLE THEFT  85307   \n",
       "1  201500000000000  2015-11-01  MOTOR VEHICLE THEFT  85043   \n",
       "2  201600000000000  2015-11-01  MOTOR VEHICLE THEFT  85029   \n",
       "3  201500000000000  2015-11-01        LARCENY-THEFT  85014   \n",
       "4  201700000000000  2015-11-01        LARCENY-THEFT  85085   \n",
       "\n",
       "          PREMISE TYPE  \n",
       "0  SINGLE FAMILY HOUSE  \n",
       "1  SINGLE FAMILY HOUSE  \n",
       "2  SINGLE FAMILY HOUSE  \n",
       "3          PARKING LOT  \n",
       "4  SINGLE FAMILY HOUSE  "
      ]
     },
     "execution_count": 1,
     "metadata": {},
     "output_type": "execute_result"
    }
   ],
   "source": [
    "import pandas as pd\n",
    "import numpy as np\n",
    "import matplotlib.pyplot as plt\n",
    "import datetime as dt\n",
    "\n",
    "#read in datafile, convert to dataframe\n",
    "data = pd.DataFrame(pd.read_csv('Resources/crime-data.csv', low_memory=False)).drop(['100 BLOCK ADDR', 'OCCURRED TO'], axis=1)\n",
    "\n",
    "#datatypes\n",
    "data['INC NUMBER'] = data['INC NUMBER'].apply(str).replace('\\.0', '', regex=True)\n",
    "data['OCCURRED ON'] = data['OCCURRED ON'].astype(str)\n",
    "data['UCR CRIME CATEGORY'] = data['UCR CRIME CATEGORY'].astype(str)\n",
    "data['ZIP'] = data['ZIP'].apply(str).replace('\\.0', '', regex=True)\n",
    "data['PREMISE TYPE'] = data['PREMISE TYPE'].astype(str)\n",
    "\n",
    "#regroup/rename\n",
    "data.loc[data['PREMISE TYPE'] == '07A STOREROOM/SHED (COMMERCIAL)', ['PREMISE TYPE']] = 'STOREROOM / SHED'\n",
    "data.loc[data['PREMISE TYPE'] == '07A STOREROOM/SHED (RESIDENTIAL)', ['PREMISE TYPE']] = 'STOREROOM / SHED'\n",
    "data.loc[data['PREMISE TYPE'] == 'BAR / LOUNG / NIGHT CLUB', ['PREMISE TYPE']] = 'BAR / LOUNGE / NIGHTCLUB'\n",
    "data.loc[data['PREMISE TYPE'] == 'GARAGE / CARPORT', ['PREMISE TYPE']] = 'GARAGE'\n",
    "data.loc[data['PREMISE TYPE'] == 'CARPORT', ['PREMISE TYPE']] = 'GARAGE'\n",
    "data.loc[data['PREMISE TYPE'] == 'BUS', ['PREMISE TYPE']] = 'ON THE BUS'\n",
    "data.loc[data['PREMISE TYPE'] == 'FAST FOOD STORE', ['PREMISE TYPE']] = 'RESTAURANT'\n",
    "data.loc[data['PREMISE TYPE'] == 'FOJ - PREMISE UNKNOWN', ['PREMISE TYPE']] = 'UNKNOWN'\n",
    "data.loc[data['PREMISE TYPE'] == 'HOSPITAL', ['PREMISE TYPE']] = 'HOSPITAL / NURSING CARE'\n",
    "data.loc[data['PREMISE TYPE'] == 'SCHOOL-COLLEGE/UNIVERSITY', ['PREMISE TYPE']] = 'SCHOOL/COLLEGE/CHILDCARE'\n",
    "data.loc[data['PREMISE TYPE'] == 'SCHOOL-ELEMENTARY/SECONDARY', ['PREMISE TYPE']] = 'SCHOOL/COLLEGE/CHILDCARE'\n",
    "data.loc[data['PREMISE TYPE'] == 'SCHOOL-OTHER', ['PREMISE TYPE']] = 'SCHOOL/COLLEGE/CHILDCARE'\n",
    "data.loc[data['PREMISE TYPE'] == 'SINGLE FAMILY HOUSING', ['PREMISE TYPE']] = 'SINGLE FAMILY HOUSE'\n",
    "data.loc[data['PREMISE TYPE'] == 'STREET / ROADWAY / ALLEY SIDEWALK', ['PREMISE TYPE']] = 'STREET / ROADWAY / ALLEY / SIDEWALK'\n",
    "data.loc[data['PREMISE TYPE'] == 'RAIL STATION', ['PREMISE TYPE']] = 'TRAIN STATION'\n",
    "data.loc[data['PREMISE TYPE'] == 'WAREHOUSE / FACTORY', ['PREMISE TYPE']] = 'INDUSTRIAL SITE'\n",
    "\n",
    "#clean up data\n",
    "data = data[data['PREMISE TYPE'] != 'NaN']\n",
    "data = data[data['PREMISE TYPE'] != '']\n",
    "data = data[data['ZIP'] != 'NaN']\n",
    "data = data[data['ZIP'] != '']\n",
    "data = data[data['OCCURRED ON'] != 'NaN']\n",
    "data = data[data['OCCURRED ON'] != '']\n",
    "#data = data[data['INC NUMBER'] != 'NaN'\n",
    "#data = data[data['INC NUMBER'] != '']\n",
    "data = data[data['UCR CRIME CATEGORY'] != 'NaN']\n",
    "\n",
    "data['OCCURRED ON'] = pd.to_datetime(data['OCCURRED ON'])\n",
    "\n",
    "\n",
    "data.head()"
   ]
  },
  {
   "cell_type": "code",
   "execution_count": 2,
   "metadata": {},
   "outputs": [
    {
     "data": {
      "text/html": [
       "<div>\n",
       "<style scoped>\n",
       "    .dataframe tbody tr th:only-of-type {\n",
       "        vertical-align: middle;\n",
       "    }\n",
       "\n",
       "    .dataframe tbody tr th {\n",
       "        vertical-align: top;\n",
       "    }\n",
       "\n",
       "    .dataframe thead th {\n",
       "        text-align: right;\n",
       "    }\n",
       "</style>\n",
       "<table border=\"1\" class=\"dataframe\">\n",
       "  <thead>\n",
       "    <tr style=\"text-align: right;\">\n",
       "      <th></th>\n",
       "      <th>INC NUMBER</th>\n",
       "      <th>OCCURRED ON</th>\n",
       "      <th>UCR CRIME CATEGORY</th>\n",
       "      <th>ZIP</th>\n",
       "      <th>PREMISE TYPE</th>\n",
       "      <th>YEAR</th>\n",
       "      <th>MONTH</th>\n",
       "      <th>DAY</th>\n",
       "    </tr>\n",
       "  </thead>\n",
       "  <tbody>\n",
       "    <tr>\n",
       "      <th>0</th>\n",
       "      <td>201500000000000</td>\n",
       "      <td>2015-11-01</td>\n",
       "      <td>MOTOR VEHICLE THEFT</td>\n",
       "      <td>85307</td>\n",
       "      <td>SINGLE FAMILY HOUSE</td>\n",
       "      <td>2015</td>\n",
       "      <td>11</td>\n",
       "      <td>1</td>\n",
       "    </tr>\n",
       "    <tr>\n",
       "      <th>1</th>\n",
       "      <td>201500000000000</td>\n",
       "      <td>2015-11-01</td>\n",
       "      <td>MOTOR VEHICLE THEFT</td>\n",
       "      <td>85043</td>\n",
       "      <td>SINGLE FAMILY HOUSE</td>\n",
       "      <td>2015</td>\n",
       "      <td>11</td>\n",
       "      <td>1</td>\n",
       "    </tr>\n",
       "    <tr>\n",
       "      <th>2</th>\n",
       "      <td>201600000000000</td>\n",
       "      <td>2015-11-01</td>\n",
       "      <td>MOTOR VEHICLE THEFT</td>\n",
       "      <td>85029</td>\n",
       "      <td>SINGLE FAMILY HOUSE</td>\n",
       "      <td>2016</td>\n",
       "      <td>11</td>\n",
       "      <td>1</td>\n",
       "    </tr>\n",
       "    <tr>\n",
       "      <th>3</th>\n",
       "      <td>201500000000000</td>\n",
       "      <td>2015-11-01</td>\n",
       "      <td>LARCENY-THEFT</td>\n",
       "      <td>85014</td>\n",
       "      <td>PARKING LOT</td>\n",
       "      <td>2015</td>\n",
       "      <td>11</td>\n",
       "      <td>1</td>\n",
       "    </tr>\n",
       "    <tr>\n",
       "      <th>4</th>\n",
       "      <td>201700000000000</td>\n",
       "      <td>2015-11-01</td>\n",
       "      <td>LARCENY-THEFT</td>\n",
       "      <td>85085</td>\n",
       "      <td>SINGLE FAMILY HOUSE</td>\n",
       "      <td>2017</td>\n",
       "      <td>11</td>\n",
       "      <td>1</td>\n",
       "    </tr>\n",
       "  </tbody>\n",
       "</table>\n",
       "</div>"
      ],
      "text/plain": [
       "        INC NUMBER OCCURRED ON   UCR CRIME CATEGORY    ZIP  \\\n",
       "0  201500000000000  2015-11-01  MOTOR VEHICLE THEFT  85307   \n",
       "1  201500000000000  2015-11-01  MOTOR VEHICLE THEFT  85043   \n",
       "2  201600000000000  2015-11-01  MOTOR VEHICLE THEFT  85029   \n",
       "3  201500000000000  2015-11-01        LARCENY-THEFT  85014   \n",
       "4  201700000000000  2015-11-01        LARCENY-THEFT  85085   \n",
       "\n",
       "          PREMISE TYPE  YEAR  MONTH  DAY  \n",
       "0  SINGLE FAMILY HOUSE  2015     11    1  \n",
       "1  SINGLE FAMILY HOUSE  2015     11    1  \n",
       "2  SINGLE FAMILY HOUSE  2016     11    1  \n",
       "3          PARKING LOT  2015     11    1  \n",
       "4  SINGLE FAMILY HOUSE  2017     11    1  "
      ]
     },
     "execution_count": 2,
     "metadata": {},
     "output_type": "execute_result"
    }
   ],
   "source": [
    "\n",
    "#parse & add columns for year/month/day \n",
    "YEAR = data['INC NUMBER'].str[:4].astype(int)\n",
    "data['YEAR'] = YEAR.fillna(0.0).astype(int)\n",
    "#data = data.rename(columns = {'INC NUMBER':'YEAR'})\n",
    "\n",
    "MONTH = data['OCCURRED ON'].dt.month\n",
    "DAY = data['OCCURRED ON'].dt.day\n",
    "\n",
    "#data['occurred_on_year'] = occurred_on_year.fillna(0.0).astype(int)\n",
    "data['MONTH'] = MONTH.fillna(0.0).astype(int)\n",
    "data['DAY'] = DAY.fillna(0.0).astype(int)\n",
    "\n",
    "#drop unnecessary column\n",
    "#data.drop(columns='INC NUMBER', inplace=True)\n",
    "\n",
    "data.head()"
   ]
  },
  {
   "cell_type": "code",
   "execution_count": 55,
   "metadata": {},
   "outputs": [
    {
     "data": {
      "text/html": [
       "<div>\n",
       "<style scoped>\n",
       "    .dataframe tbody tr th:only-of-type {\n",
       "        vertical-align: middle;\n",
       "    }\n",
       "\n",
       "    .dataframe tbody tr th {\n",
       "        vertical-align: top;\n",
       "    }\n",
       "\n",
       "    .dataframe thead th {\n",
       "        text-align: right;\n",
       "    }\n",
       "</style>\n",
       "<table border=\"1\" class=\"dataframe\">\n",
       "  <thead>\n",
       "    <tr style=\"text-align: right;\">\n",
       "      <th></th>\n",
       "      <th>INC NUMBER</th>\n",
       "      <th>OCCURRED ON</th>\n",
       "      <th>UCR CRIME CATEGORY</th>\n",
       "      <th>ZIP</th>\n",
       "      <th>PREMISE TYPE</th>\n",
       "      <th>YEAR</th>\n",
       "      <th>MONTH</th>\n",
       "      <th>DAY</th>\n",
       "    </tr>\n",
       "  </thead>\n",
       "  <tbody>\n",
       "    <tr>\n",
       "      <th>2</th>\n",
       "      <td>201600000000000</td>\n",
       "      <td>2015-11-01</td>\n",
       "      <td>MOTOR VEHICLE THEFT</td>\n",
       "      <td>85029</td>\n",
       "      <td>SINGLE FAMILY HOUSE</td>\n",
       "      <td>2016</td>\n",
       "      <td>11</td>\n",
       "      <td>1</td>\n",
       "    </tr>\n",
       "    <tr>\n",
       "      <th>4</th>\n",
       "      <td>201700000000000</td>\n",
       "      <td>2015-11-01</td>\n",
       "      <td>LARCENY-THEFT</td>\n",
       "      <td>85085</td>\n",
       "      <td>SINGLE FAMILY HOUSE</td>\n",
       "      <td>2017</td>\n",
       "      <td>11</td>\n",
       "      <td>1</td>\n",
       "    </tr>\n",
       "    <tr>\n",
       "      <th>5</th>\n",
       "      <td>201700000000000</td>\n",
       "      <td>2015-11-01</td>\n",
       "      <td>RAPE</td>\n",
       "      <td>85019</td>\n",
       "      <td>HOSPITAL / NURSING CARE</td>\n",
       "      <td>2017</td>\n",
       "      <td>11</td>\n",
       "      <td>1</td>\n",
       "    </tr>\n",
       "    <tr>\n",
       "      <th>7</th>\n",
       "      <td>201600000000000</td>\n",
       "      <td>2015-11-01</td>\n",
       "      <td>RAPE</td>\n",
       "      <td>85006</td>\n",
       "      <td>SINGLE FAMILY HOUSE</td>\n",
       "      <td>2016</td>\n",
       "      <td>11</td>\n",
       "      <td>1</td>\n",
       "    </tr>\n",
       "    <tr>\n",
       "      <th>9</th>\n",
       "      <td>201600000000000</td>\n",
       "      <td>2015-11-01</td>\n",
       "      <td>LARCENY-THEFT</td>\n",
       "      <td>85017</td>\n",
       "      <td>PARKING LOT</td>\n",
       "      <td>2016</td>\n",
       "      <td>11</td>\n",
       "      <td>1</td>\n",
       "    </tr>\n",
       "  </tbody>\n",
       "</table>\n",
       "</div>"
      ],
      "text/plain": [
       "        INC NUMBER OCCURRED ON   UCR CRIME CATEGORY    ZIP  \\\n",
       "2  201600000000000  2015-11-01  MOTOR VEHICLE THEFT  85029   \n",
       "4  201700000000000  2015-11-01        LARCENY-THEFT  85085   \n",
       "5  201700000000000  2015-11-01                 RAPE  85019   \n",
       "7  201600000000000  2015-11-01                 RAPE  85006   \n",
       "9  201600000000000  2015-11-01        LARCENY-THEFT  85017   \n",
       "\n",
       "              PREMISE TYPE  YEAR  MONTH  DAY  \n",
       "2      SINGLE FAMILY HOUSE  2016     11    1  \n",
       "4      SINGLE FAMILY HOUSE  2017     11    1  \n",
       "5  HOSPITAL / NURSING CARE  2017     11    1  \n",
       "7      SINGLE FAMILY HOUSE  2016     11    1  \n",
       "9              PARKING LOT  2016     11    1  "
      ]
     },
     "execution_count": 55,
     "metadata": {},
     "output_type": "execute_result"
    }
   ],
   "source": [
    "data = data[data['YEAR'] > 2015] \n",
    "data.head()"
   ]
  },
  {
   "cell_type": "code",
   "execution_count": 56,
   "metadata": {},
   "outputs": [
    {
     "data": {
      "text/html": [
       "<div>\n",
       "<style scoped>\n",
       "    .dataframe tbody tr th:only-of-type {\n",
       "        vertical-align: middle;\n",
       "    }\n",
       "\n",
       "    .dataframe tbody tr th {\n",
       "        vertical-align: top;\n",
       "    }\n",
       "\n",
       "    .dataframe thead th {\n",
       "        text-align: right;\n",
       "    }\n",
       "</style>\n",
       "<table border=\"1\" class=\"dataframe\">\n",
       "  <thead>\n",
       "    <tr style=\"text-align: right;\">\n",
       "      <th></th>\n",
       "      <th>YEAR</th>\n",
       "      <th>MONTH</th>\n",
       "      <th>DAY</th>\n",
       "    </tr>\n",
       "  </thead>\n",
       "  <tbody>\n",
       "    <tr>\n",
       "      <th>count</th>\n",
       "      <td>243738.000000</td>\n",
       "      <td>243738.000000</td>\n",
       "      <td>243738.000000</td>\n",
       "    </tr>\n",
       "    <tr>\n",
       "      <th>mean</th>\n",
       "      <td>2017.416107</td>\n",
       "      <td>6.223826</td>\n",
       "      <td>15.580902</td>\n",
       "    </tr>\n",
       "    <tr>\n",
       "      <th>std</th>\n",
       "      <td>1.080821</td>\n",
       "      <td>3.365206</td>\n",
       "      <td>8.844523</td>\n",
       "    </tr>\n",
       "    <tr>\n",
       "      <th>min</th>\n",
       "      <td>2016.000000</td>\n",
       "      <td>0.000000</td>\n",
       "      <td>0.000000</td>\n",
       "    </tr>\n",
       "    <tr>\n",
       "      <th>25%</th>\n",
       "      <td>2016.000000</td>\n",
       "      <td>3.000000</td>\n",
       "      <td>8.000000</td>\n",
       "    </tr>\n",
       "    <tr>\n",
       "      <th>50%</th>\n",
       "      <td>2017.000000</td>\n",
       "      <td>6.000000</td>\n",
       "      <td>16.000000</td>\n",
       "    </tr>\n",
       "    <tr>\n",
       "      <th>75%</th>\n",
       "      <td>2018.000000</td>\n",
       "      <td>9.000000</td>\n",
       "      <td>23.000000</td>\n",
       "    </tr>\n",
       "    <tr>\n",
       "      <th>max</th>\n",
       "      <td>2019.000000</td>\n",
       "      <td>12.000000</td>\n",
       "      <td>31.000000</td>\n",
       "    </tr>\n",
       "  </tbody>\n",
       "</table>\n",
       "</div>"
      ],
      "text/plain": [
       "                YEAR          MONTH            DAY\n",
       "count  243738.000000  243738.000000  243738.000000\n",
       "mean     2017.416107       6.223826      15.580902\n",
       "std         1.080821       3.365206       8.844523\n",
       "min      2016.000000       0.000000       0.000000\n",
       "25%      2016.000000       3.000000       8.000000\n",
       "50%      2017.000000       6.000000      16.000000\n",
       "75%      2018.000000       9.000000      23.000000\n",
       "max      2019.000000      12.000000      31.000000"
      ]
     },
     "execution_count": 56,
     "metadata": {},
     "output_type": "execute_result"
    }
   ],
   "source": [
    "data.describe()"
   ]
  },
  {
   "cell_type": "code",
   "execution_count": 57,
   "metadata": {},
   "outputs": [
    {
     "data": {
      "text/plain": [
       "INC NUMBER                    object\n",
       "OCCURRED ON           datetime64[ns]\n",
       "UCR CRIME CATEGORY            object\n",
       "ZIP                           object\n",
       "PREMISE TYPE                  object\n",
       "YEAR                           int32\n",
       "MONTH                          int32\n",
       "DAY                            int32\n",
       "dtype: object"
      ]
     },
     "execution_count": 57,
     "metadata": {},
     "output_type": "execute_result"
    }
   ],
   "source": [
    "#crime_data_df.dtypes\n",
    "data.dtypes\n"
   ]
  },
  {
   "cell_type": "code",
   "execution_count": 58,
   "metadata": {},
   "outputs": [
    {
     "data": {
      "text/plain": [
       "LARCENY-THEFT                            123858\n",
       "BURGLARY                                  38840\n",
       "MOTOR VEHICLE THEFT                       25706\n",
       "DRUG OFFENSE                              20552\n",
       "AGGRAVATED ASSAULT                        18748\n",
       "ROBBERY                                   10386\n",
       "RAPE                                       3622\n",
       "ARSON                                      1537\n",
       "MURDER AND NON-NEGLIGENT MANSLAUGHTER       489\n",
       "Name: UCR CRIME CATEGORY, dtype: int64"
      ]
     },
     "execution_count": 58,
     "metadata": {},
     "output_type": "execute_result"
    }
   ],
   "source": [
    "data['UCR CRIME CATEGORY'].value_counts()"
   ]
  },
  {
   "cell_type": "code",
   "execution_count": 59,
   "metadata": {},
   "outputs": [
    {
     "data": {
      "text/plain": [
       "SINGLE FAMILY HOUSE                    44710\n",
       "APARTMENT                              27909\n",
       "STREET / ROADWAY / ALLEY / SIDEWALK    25544\n",
       "PARKING LOT                            24402\n",
       "RETAIL BUSINESS                        18481\n",
       "VEHICLE                                12634\n",
       "CONVENIENCE MARKET / STORE              8886\n",
       "DEPARTMENT / DISCOUNT STORE             8677\n",
       "DRIVEWAY                                8542\n",
       "GROCERY / SUPER MARKET                  6647\n",
       "Name: PREMISE TYPE, dtype: int64"
      ]
     },
     "execution_count": 59,
     "metadata": {},
     "output_type": "execute_result"
    }
   ],
   "source": [
    "data['PREMISE TYPE'].value_counts().head(10)"
   ]
  },
  {
   "cell_type": "code",
   "execution_count": 133,
   "metadata": {},
   "outputs": [
    {
     "name": "stdout",
     "output_type": "stream",
     "text": [
      "<class 'pandas.core.frame.DataFrame'>\n"
     ]
    },
    {
     "data": {
      "text/html": [
       "<div>\n",
       "<style scoped>\n",
       "    .dataframe tbody tr th:only-of-type {\n",
       "        vertical-align: middle;\n",
       "    }\n",
       "\n",
       "    .dataframe tbody tr th {\n",
       "        vertical-align: top;\n",
       "    }\n",
       "\n",
       "    .dataframe thead th {\n",
       "        text-align: right;\n",
       "    }\n",
       "</style>\n",
       "<table border=\"1\" class=\"dataframe\">\n",
       "  <thead>\n",
       "    <tr style=\"text-align: right;\">\n",
       "      <th></th>\n",
       "      <th></th>\n",
       "      <th>OCCURRED ON</th>\n",
       "    </tr>\n",
       "    <tr>\n",
       "      <th>UCR CRIME CATEGORY</th>\n",
       "      <th>PREMISE TYPE</th>\n",
       "      <th></th>\n",
       "    </tr>\n",
       "  </thead>\n",
       "  <tbody>\n",
       "    <tr>\n",
       "      <th rowspan=\"2\" valign=\"top\">ROBBERY</th>\n",
       "      <th>STREET / ROADWAY / ALLEY / SIDEWALK</th>\n",
       "      <td>2643</td>\n",
       "    </tr>\n",
       "    <tr>\n",
       "      <th>PARKING LOT</th>\n",
       "      <td>1512</td>\n",
       "    </tr>\n",
       "    <tr>\n",
       "      <th rowspan=\"2\" valign=\"top\">RAPE</th>\n",
       "      <th>SINGLE FAMILY HOUSE</th>\n",
       "      <td>1092</td>\n",
       "    </tr>\n",
       "    <tr>\n",
       "      <th>APARTMENT</th>\n",
       "      <td>932</td>\n",
       "    </tr>\n",
       "    <tr>\n",
       "      <th rowspan=\"2\" valign=\"top\">MURDER AND NON-NEGLIGENT MANSLAUGHTER</th>\n",
       "      <th>SINGLE FAMILY HOUSE</th>\n",
       "      <td>101</td>\n",
       "    </tr>\n",
       "    <tr>\n",
       "      <th>STREET / ROADWAY / ALLEY / SIDEWALK</th>\n",
       "      <td>97</td>\n",
       "    </tr>\n",
       "    <tr>\n",
       "      <th rowspan=\"2\" valign=\"top\">MOTOR VEHICLE THEFT</th>\n",
       "      <th>PARKING LOT</th>\n",
       "      <td>6795</td>\n",
       "    </tr>\n",
       "    <tr>\n",
       "      <th>STREET / ROADWAY / ALLEY / SIDEWALK</th>\n",
       "      <td>4761</td>\n",
       "    </tr>\n",
       "    <tr>\n",
       "      <th rowspan=\"2\" valign=\"top\">LARCENY-THEFT</th>\n",
       "      <th>RETAIL BUSINESS</th>\n",
       "      <td>15972</td>\n",
       "    </tr>\n",
       "    <tr>\n",
       "      <th>SINGLE FAMILY HOUSE</th>\n",
       "      <td>14675</td>\n",
       "    </tr>\n",
       "    <tr>\n",
       "      <th rowspan=\"2\" valign=\"top\">DRUG OFFENSE</th>\n",
       "      <th>STREET / ROADWAY / ALLEY / SIDEWALK</th>\n",
       "      <td>6131</td>\n",
       "    </tr>\n",
       "    <tr>\n",
       "      <th>VEHICLE</th>\n",
       "      <td>3107</td>\n",
       "    </tr>\n",
       "    <tr>\n",
       "      <th rowspan=\"2\" valign=\"top\">BURGLARY</th>\n",
       "      <th>SINGLE FAMILY HOUSE</th>\n",
       "      <td>19132</td>\n",
       "    </tr>\n",
       "    <tr>\n",
       "      <th>APARTMENT</th>\n",
       "      <td>6808</td>\n",
       "    </tr>\n",
       "    <tr>\n",
       "      <th rowspan=\"2\" valign=\"top\">ARSON</th>\n",
       "      <th>nan</th>\n",
       "      <td>693</td>\n",
       "    </tr>\n",
       "    <tr>\n",
       "      <th>SINGLE FAMILY HOUSE</th>\n",
       "      <td>192</td>\n",
       "    </tr>\n",
       "    <tr>\n",
       "      <th rowspan=\"2\" valign=\"top\">AGGRAVATED ASSAULT</th>\n",
       "      <th>APARTMENT</th>\n",
       "      <td>4584</td>\n",
       "    </tr>\n",
       "    <tr>\n",
       "      <th>STREET / ROADWAY / ALLEY / SIDEWALK</th>\n",
       "      <td>4581</td>\n",
       "    </tr>\n",
       "  </tbody>\n",
       "</table>\n",
       "</div>"
      ],
      "text/plain": [
       "                                                                           OCCURRED ON\n",
       "UCR CRIME CATEGORY                    PREMISE TYPE                                    \n",
       "ROBBERY                               STREET / ROADWAY / ALLEY / SIDEWALK         2643\n",
       "                                      PARKING LOT                                 1512\n",
       "RAPE                                  SINGLE FAMILY HOUSE                         1092\n",
       "                                      APARTMENT                                    932\n",
       "MURDER AND NON-NEGLIGENT MANSLAUGHTER SINGLE FAMILY HOUSE                          101\n",
       "                                      STREET / ROADWAY / ALLEY / SIDEWALK           97\n",
       "MOTOR VEHICLE THEFT                   PARKING LOT                                 6795\n",
       "                                      STREET / ROADWAY / ALLEY / SIDEWALK         4761\n",
       "LARCENY-THEFT                         RETAIL BUSINESS                            15972\n",
       "                                      SINGLE FAMILY HOUSE                        14675\n",
       "DRUG OFFENSE                          STREET / ROADWAY / ALLEY / SIDEWALK         6131\n",
       "                                      VEHICLE                                     3107\n",
       "BURGLARY                              SINGLE FAMILY HOUSE                        19132\n",
       "                                      APARTMENT                                   6808\n",
       "ARSON                                 nan                                          693\n",
       "                                      SINGLE FAMILY HOUSE                          192\n",
       "AGGRAVATED ASSAULT                    APARTMENT                                   4584\n",
       "                                      STREET / ROADWAY / ALLEY / SIDEWALK         4581"
      ]
     },
     "execution_count": 133,
     "metadata": {},
     "output_type": "execute_result"
    }
   ],
   "source": [
    "#Q3 Biggest premise for each crime - 1 table showing the crime and corresponding premise\n",
    "\n",
    "cattype = data.groupby(['UCR CRIME CATEGORY', 'PREMISE TYPE']).count()[['OCCURRED ON']].sort_values(['UCR CRIME CATEGORY','OCCURRED ON'], ascending=False)#.nlargest(5,'OCCURRED ON')\n",
    "\n",
    "#cattype = cattype.reset_index().sort_values(['UCR CRIME CATEGORY','OCCURRED ON'],ascending=False).set_index(['UCR CRIME CATEGORY','PREMISE TYPE'])\n",
    "\n",
    "#cattype = cattype.sort_values(by=['OCCURRED ON'], ascending=False)\n",
    "print(type(cattype))\n",
    "\n",
    "cattype.groupby(['UCR CRIME CATEGORY']).head(2)\n"
   ]
  },
  {
   "cell_type": "code",
   "execution_count": null,
   "metadata": {},
   "outputs": [],
   "source": [
    "cattype = data.groupby(['UCR CRIME CATEGORY', 'PREMISE TYPE']).count()[['OCCURRED ON']].sort_values(['UCR CRIME CATEGORY','OCCURRED ON'], ascending=False)#.nlargest(5,'OCCURRED ON')\n",
    "\n",
    "#cattype = cattype.reset_index().sort_values(['UCR CRIME CATEGORY','OCCURRED ON'],ascending=False).set_index(['UCR CRIME CATEGORY','PREMISE TYPE'])\n",
    "\n",
    "#cattype = cattype.sort_values(by=['OCCURRED ON'], ascending=False)\n",
    "\n",
    "cattype"
   ]
  },
  {
   "cell_type": "code",
   "execution_count": 88,
   "metadata": {},
   "outputs": [
    {
     "data": {
      "text/html": [
       "<div>\n",
       "<style scoped>\n",
       "    .dataframe tbody tr th:only-of-type {\n",
       "        vertical-align: middle;\n",
       "    }\n",
       "\n",
       "    .dataframe tbody tr th {\n",
       "        vertical-align: top;\n",
       "    }\n",
       "\n",
       "    .dataframe thead th {\n",
       "        text-align: right;\n",
       "    }\n",
       "</style>\n",
       "<table border=\"1\" class=\"dataframe\">\n",
       "  <thead>\n",
       "    <tr style=\"text-align: right;\">\n",
       "      <th></th>\n",
       "      <th>OCCURRED ON</th>\n",
       "    </tr>\n",
       "    <tr>\n",
       "      <th>PREMISE TYPE</th>\n",
       "      <th></th>\n",
       "    </tr>\n",
       "  </thead>\n",
       "  <tbody>\n",
       "    <tr>\n",
       "      <th>SINGLE FAMILY HOUSE</th>\n",
       "      <td>44649</td>\n",
       "    </tr>\n",
       "    <tr>\n",
       "      <th>APARTMENT</th>\n",
       "      <td>27882</td>\n",
       "    </tr>\n",
       "    <tr>\n",
       "      <th>STREET / ROADWAY / ALLEY / SIDEWALK</th>\n",
       "      <td>25510</td>\n",
       "    </tr>\n",
       "    <tr>\n",
       "      <th>PARKING LOT</th>\n",
       "      <td>24370</td>\n",
       "    </tr>\n",
       "    <tr>\n",
       "      <th>RETAIL BUSINESS</th>\n",
       "      <td>18448</td>\n",
       "    </tr>\n",
       "  </tbody>\n",
       "</table>\n",
       "</div>"
      ],
      "text/plain": [
       "                                     OCCURRED ON\n",
       "PREMISE TYPE                                    \n",
       "SINGLE FAMILY HOUSE                        44649\n",
       "APARTMENT                                  27882\n",
       "STREET / ROADWAY / ALLEY / SIDEWALK        25510\n",
       "PARKING LOT                                24370\n",
       "RETAIL BUSINESS                            18448"
      ]
     },
     "execution_count": 88,
     "metadata": {},
     "output_type": "execute_result"
    }
   ],
   "source": [
    "premtype = data.groupby(['PREMISE TYPE']).count()[['OCCURRED ON']]\n",
    "\n",
    "#cattype = cattype.reset_index().sort_values(['UCR CRIME CATEGORY','OCCURRED ON'],ascending=False).set_index(['UCR CRIME CATEGORY','PREMISE TYPE'])\n",
    "\n",
    "premtype = premtype.sort_values(by=['OCCURRED ON'], ascending=False)\n",
    "\n",
    "premtype.head()"
   ]
  },
  {
   "cell_type": "code",
   "execution_count": 128,
   "metadata": {},
   "outputs": [
    {
     "data": {
      "text/plain": [
       "<matplotlib.axes._subplots.AxesSubplot at 0x10e6264ab70>"
      ]
     },
     "execution_count": 128,
     "metadata": {},
     "output_type": "execute_result"
    },
    {
     "data": {
      "image/png": "[encoded data removed]",
      "text/plain": [
       "<Figure size 432x288 with 1 Axes>"
      ]
     },
     "metadata": {
      "needs_background": "light"
     },
     "output_type": "display_data"
    }
   ],
   "source": [
    "prem = data[data['PREMISE TYPE'] == \"SINGLE FAMILY HOUSE\"] \n",
    "premgroup = prem.groupby(['UCR CRIME CATEGORY', 'YEAR']).count()['OCCURRED ON'].reset_index()\n",
    "premgrouppivot = premgroup.pivot(index='UCR CRIME CATEGORY', columns='YEAR', values='OCCURRED ON')\n",
    "premgrouppivot.plot(kind='bar')"
   ]
  },
  {
   "cell_type": "code",
   "execution_count": 132,
   "metadata": {},
   "outputs": [
    {
     "data": {
      "text/plain": [
       "<matplotlib.axes._subplots.AxesSubplot at 0x10e626170f0>"
      ]
     },
     "execution_count": 132,
     "metadata": {},
     "output_type": "execute_result"
    },
    {
     "data": {
      "image/png": "[encoded data removed]",
      "text/plain": [
       "<Figure size 432x288 with 1 Axes>"
      ]
     },
     "metadata": {
      "needs_background": "light"
     },
     "output_type": "display_data"
    }
   ],
   "source": [
    "#most common crime in single family home\n",
    "prem = data[data['PREMISE TYPE'] == \"SINGLE FAMILY HOUSE\"] \n",
    "premgroup = prem.groupby(['UCR CRIME CATEGORY']).count()['OCCURRED ON']#.reset_index()\n",
    "premgroup.plot(kind=\"bar\")"
   ]
  },
  {
   "cell_type": "code",
   "execution_count": 137,
   "metadata": {
    "scrolled": true
   },
   "outputs": [
    {
     "data": {
      "image/png": "[encoded data removed]",
      "text/plain": [
       "<Figure size 432x288 with 1 Axes>"
      ]
     },
     "metadata": {
      "needs_background": "light"
     },
     "output_type": "display_data"
    }
   ],
   "source": [
    "#Q1 most common crime each year\n",
    "catyear = data.groupby(['YEAR','UCR CRIME CATEGORY']).count()['OCCURRED ON'].reset_index()\n",
    "catyearpivot = catyear.pivot(index='UCR CRIME CATEGORY', columns='YEAR', values='OCCURRED ON')\n",
    "catyearpivot.plot(kind='barh')\n",
    "plt.xlabel(\"Number of Occurrences\")\n",
    "plt.ylabel(\"Crime Category\")\n",
    "plt.title(\"Crime Category Occurrences by Year\")\n",
    "plt.savefig(\"Crime Category Occurrences by Year.png\", bbox_inches='tight')\n"
   ]
  },
  {
   "cell_type": "code",
   "execution_count": 78,
   "metadata": {
    "scrolled": true
   },
   "outputs": [
    {
     "data": {
      "text/plain": [
       "Text(0.5, 1.0, 'Crime Occurrences by Zip Code (Top 20)')"
      ]
     },
     "execution_count": 78,
     "metadata": {},
     "output_type": "execute_result"
    },
    {
     "data": {
      "image/png": "[encoded data removed]",
      "text/plain": [
       "<Figure size 432x288 with 1 Axes>"
      ]
     },
     "metadata": {
      "needs_background": "light"
     },
     "output_type": "display_data"
    }
   ],
   "source": [
    "#total by zip\n",
    "#5 - Most crime-prone ZIP\n",
    "datazip = data[\"ZIP\"].groupby(data[\"ZIP\"]).count().sort_values(ascending=False)\n",
    "datazip.head(20).plot(kind=\"barh\")\n",
    "plt.xlabel(\"Number of Occurrences\")\n",
    "plt.ylabel(\"Zip Code\")\n",
    "plt.title(\"Crime Occurrences by Zip Code (Top 20)\")\n"
   ]
  },
  {
   "cell_type": "code",
   "execution_count": 111,
   "metadata": {},
   "outputs": [
    {
     "data": {
      "text/plain": [
       "(array([0, 1, 2, 3, 4, 5, 6, 7, 8]), <a list of 9 Text xticklabel objects>)"
      ]
     },
     "execution_count": 111,
     "metadata": {},
     "output_type": "execute_result"
    },
    {
     "data": {
      "image/png": "[encoded data removed]",
      "text/plain": [
       "<Figure size 432x288 with 1 Axes>"
      ]
     },
     "metadata": {
      "needs_background": "light"
     },
     "output_type": "display_data"
    }
   ],
   "source": [
    "#total by type\n",
    "datacat = data[\"UCR CRIME CATEGORY\"].groupby(data[\"UCR CRIME CATEGORY\"]).count().sort_values(ascending=False)\n",
    "datacat.plot(kind=\"bar\")\n",
    "plt.xticks(rotation=45, horizontalalignment=\"right\")"
   ]
  },
  {
   "cell_type": "code",
   "execution_count": 67,
   "metadata": {},
   "outputs": [
    {
     "data": {
      "text/plain": [
       "<matplotlib.axes._subplots.AxesSubplot at 0x10e56729780>"
      ]
     },
     "execution_count": 67,
     "metadata": {},
     "output_type": "execute_result"
    },
    {
     "data": {
      "image/png": "[encoded data removed]",
      "text/plain": [
       "<Figure size 432x288 with 1 Axes>"
      ]
     },
     "metadata": {
      "needs_background": "light"
     },
     "output_type": "display_data"
    }
   ],
   "source": [
    "datapremtype = data[\"YEAR\"].groupby(data[\"YEAR\"]).count()\n",
    "datapremtype.plot(kind=\"bar\")"
   ]
  },
  {
   "cell_type": "code",
   "execution_count": 113,
   "metadata": {},
   "outputs": [
    {
     "data": {
      "text/plain": [
       "(2000, 3500)"
      ]
     },
     "execution_count": 113,
     "metadata": {},
     "output_type": "execute_result"
    },
    {
     "data": {
      "image/png": "[encoded data removed]",
      "text/plain": [
       "<Figure size 432x288 with 1 Axes>"
      ]
     },
     "metadata": {
      "needs_background": "light"
     },
     "output_type": "display_data"
    }
   ],
   "source": [
    "#4 - Relationship between crimes and date\n",
    "#larceny (highest crime) by month\n",
    "larceny =  data['UCR CRIME CATEGORY']==\"LARCENY-THEFT\"\n",
    "datalarceny = data[larceny]\n",
    "\n",
    "crimemonth = datalarceny.groupby(['YEAR','MONTH']).count()['OCCURRED ON'].reset_index()\n",
    "\n",
    "crimemonthpivot = crimemonth.pivot(index='MONTH', columns='YEAR', values='OCCURRED ON')\n",
    "crimemonthpivot.plot(kind='line')\n",
    "plt.xlim(1,12)\n",
    "plt.ylim(2000, 3500)\n"
   ]
  },
  {
   "cell_type": "code",
   "execution_count": 116,
   "metadata": {
    "scrolled": true
   },
   "outputs": [
    {
     "data": {
      "text/plain": [
       "(3000, 6500)"
      ]
     },
     "execution_count": 116,
     "metadata": {},
     "output_type": "execute_result"
    },
    {
     "data": {
      "image/png": "[encoded data removed]",
      "text/plain": [
       "<Figure size 432x288 with 1 Axes>"
      ]
     },
     "metadata": {
      "needs_background": "light"
     },
     "output_type": "display_data"
    }
   ],
   "source": [
    "#4 - Relationship between crimes and date\n",
    "#all crime by month\n",
    "allcrimemonth = data.groupby(['YEAR','MONTH']).count()['OCCURRED ON'].reset_index()\n",
    "\n",
    "allcrimemonth = allcrimemonth.pivot(index='MONTH', columns='YEAR', values='OCCURRED ON')\n",
    "allcrimemonth.plot(kind='line')\n",
    "plt.xlim(1,12)\n",
    "plt.ylim(3000, 6500)"
   ]
  },
  {
   "cell_type": "code",
   "execution_count": null,
   "metadata": {},
   "outputs": [],
   "source": []
  }
 ],
 "metadata": {
  "kernelspec": {
   "display_name": "Python 3",
   "language": "python",
   "name": "python3"
  },
  "language_info": {
   "codemirror_mode": {
    "name": "ipython",
    "version": 3
   },
   "file_extension": ".py",
   "mimetype": "text/x-python",
   "name": "python",
   "nbconvert_exporter": "python",
   "pygments_lexer": "ipython3",
   "version": "3.7.3"
  }
 },
 "nbformat": 4,
 "nbformat_minor": 2
}
